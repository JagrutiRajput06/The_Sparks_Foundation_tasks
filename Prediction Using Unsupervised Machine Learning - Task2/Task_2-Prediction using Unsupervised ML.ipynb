{
 "cells": [
  {
   "cell_type": "markdown",
   "id": "507bd1cd",
   "metadata": {},
   "source": [
    "<h1> Author : JAGRUTI RAJPUT</h1>"
   ]
  },
  {
   "cell_type": "markdown",
   "id": "32bb3643",
   "metadata": {},
   "source": [
    "# GRIP : The Sparks Foundation  (#GRIP JANUARY23)"
   ]
  },
  {
   "cell_type": "markdown",
   "id": "1c6e346b",
   "metadata": {},
   "source": [
    "# Data Science and Business Analytics Intern"
   ]
  },
  {
   "cell_type": "markdown",
   "id": "d67b2d6e",
   "metadata": {},
   "source": [
    "# Task 2 : Prediction using Unsupervised Machine Learning"
   ]
  },
  {
   "cell_type": "markdown",
   "id": "0fd1474a",
   "metadata": {},
   "source": [
    "## Problem Statement\n",
    "\n",
    "\n",
    "\n",
    "**Aim:** From the given 'Iris' dataset, print the optimum number of clusters and represent it visually."
   ]
  },
  {
   "cell_type": "code",
   "execution_count": 1,
   "id": "44787bce",
   "metadata": {},
   "outputs": [],
   "source": [
    "# Importing Required Libraries\n",
    "\n",
    "import numpy as np\n",
    "import pandas as pd\n",
    "import matplotlib.pyplot as plt\n",
    "import seaborn as sns\n",
    "from sklearn.metrics import mean_squared_error\n",
    "from sklearn.metrics import mean_absolute_error\n",
    "%matplotlib inline\n",
    "import warnings\n",
    "warnings.filterwarnings(\"ignore\")"
   ]
  },
  {
   "cell_type": "markdown",
   "id": "b65042ee",
   "metadata": {},
   "source": [
    "## Dataset used : https://bit.ly/3kXTdox"
   ]
  },
  {
   "cell_type": "code",
   "execution_count": 2,
   "id": "987c2d0d",
   "metadata": {},
   "outputs": [
    {
     "name": "stdout",
     "output_type": "stream",
     "text": [
      "Data is imported successfully\n"
     ]
    }
   ],
   "source": [
    "# Read the csv dataset as a pandas dataframe\n",
    "path = 'C:/Users/rajpu/OneDrive/Desktop/Spark_Foundation/Prediction Using Unsupervised Machine Learning - Task2/Iris.csv'\n",
    "data = pd.read_csv(path)\n",
    "\n",
    "print('Data is imported successfully')"
   ]
  },
  {
   "cell_type": "code",
   "execution_count": 3,
   "id": "9e2a2b5c",
   "metadata": {},
   "outputs": [
    {
     "data": {
      "text/html": [
       "<div>\n",
       "<style scoped>\n",
       "    .dataframe tbody tr th:only-of-type {\n",
       "        vertical-align: middle;\n",
       "    }\n",
       "\n",
       "    .dataframe tbody tr th {\n",
       "        vertical-align: top;\n",
       "    }\n",
       "\n",
       "    .dataframe thead th {\n",
       "        text-align: right;\n",
       "    }\n",
       "</style>\n",
       "<table border=\"1\" class=\"dataframe\">\n",
       "  <thead>\n",
       "    <tr style=\"text-align: right;\">\n",
       "      <th></th>\n",
       "      <th>Id</th>\n",
       "      <th>SepalLengthCm</th>\n",
       "      <th>SepalWidthCm</th>\n",
       "      <th>PetalLengthCm</th>\n",
       "      <th>PetalWidthCm</th>\n",
       "      <th>Species</th>\n",
       "    </tr>\n",
       "  </thead>\n",
       "  <tbody>\n",
       "    <tr>\n",
       "      <th>0</th>\n",
       "      <td>1</td>\n",
       "      <td>5.1</td>\n",
       "      <td>3.5</td>\n",
       "      <td>1.4</td>\n",
       "      <td>0.2</td>\n",
       "      <td>Iris-setosa</td>\n",
       "    </tr>\n",
       "    <tr>\n",
       "      <th>1</th>\n",
       "      <td>2</td>\n",
       "      <td>4.9</td>\n",
       "      <td>3.0</td>\n",
       "      <td>1.4</td>\n",
       "      <td>0.2</td>\n",
       "      <td>Iris-setosa</td>\n",
       "    </tr>\n",
       "    <tr>\n",
       "      <th>2</th>\n",
       "      <td>3</td>\n",
       "      <td>4.7</td>\n",
       "      <td>3.2</td>\n",
       "      <td>1.3</td>\n",
       "      <td>0.2</td>\n",
       "      <td>Iris-setosa</td>\n",
       "    </tr>\n",
       "    <tr>\n",
       "      <th>3</th>\n",
       "      <td>4</td>\n",
       "      <td>4.6</td>\n",
       "      <td>3.1</td>\n",
       "      <td>1.5</td>\n",
       "      <td>0.2</td>\n",
       "      <td>Iris-setosa</td>\n",
       "    </tr>\n",
       "    <tr>\n",
       "      <th>4</th>\n",
       "      <td>5</td>\n",
       "      <td>5.0</td>\n",
       "      <td>3.6</td>\n",
       "      <td>1.4</td>\n",
       "      <td>0.2</td>\n",
       "      <td>Iris-setosa</td>\n",
       "    </tr>\n",
       "    <tr>\n",
       "      <th>...</th>\n",
       "      <td>...</td>\n",
       "      <td>...</td>\n",
       "      <td>...</td>\n",
       "      <td>...</td>\n",
       "      <td>...</td>\n",
       "      <td>...</td>\n",
       "    </tr>\n",
       "    <tr>\n",
       "      <th>145</th>\n",
       "      <td>146</td>\n",
       "      <td>6.7</td>\n",
       "      <td>3.0</td>\n",
       "      <td>5.2</td>\n",
       "      <td>2.3</td>\n",
       "      <td>Iris-virginica</td>\n",
       "    </tr>\n",
       "    <tr>\n",
       "      <th>146</th>\n",
       "      <td>147</td>\n",
       "      <td>6.3</td>\n",
       "      <td>2.5</td>\n",
       "      <td>5.0</td>\n",
       "      <td>1.9</td>\n",
       "      <td>Iris-virginica</td>\n",
       "    </tr>\n",
       "    <tr>\n",
       "      <th>147</th>\n",
       "      <td>148</td>\n",
       "      <td>6.5</td>\n",
       "      <td>3.0</td>\n",
       "      <td>5.2</td>\n",
       "      <td>2.0</td>\n",
       "      <td>Iris-virginica</td>\n",
       "    </tr>\n",
       "    <tr>\n",
       "      <th>148</th>\n",
       "      <td>149</td>\n",
       "      <td>6.2</td>\n",
       "      <td>3.4</td>\n",
       "      <td>5.4</td>\n",
       "      <td>2.3</td>\n",
       "      <td>Iris-virginica</td>\n",
       "    </tr>\n",
       "    <tr>\n",
       "      <th>149</th>\n",
       "      <td>150</td>\n",
       "      <td>5.9</td>\n",
       "      <td>3.0</td>\n",
       "      <td>5.1</td>\n",
       "      <td>1.8</td>\n",
       "      <td>Iris-virginica</td>\n",
       "    </tr>\n",
       "  </tbody>\n",
       "</table>\n",
       "<p>150 rows × 6 columns</p>\n",
       "</div>"
      ],
      "text/plain": [
       "      Id  SepalLengthCm  SepalWidthCm  PetalLengthCm  PetalWidthCm  \\\n",
       "0      1            5.1           3.5            1.4           0.2   \n",
       "1      2            4.9           3.0            1.4           0.2   \n",
       "2      3            4.7           3.2            1.3           0.2   \n",
       "3      4            4.6           3.1            1.5           0.2   \n",
       "4      5            5.0           3.6            1.4           0.2   \n",
       "..   ...            ...           ...            ...           ...   \n",
       "145  146            6.7           3.0            5.2           2.3   \n",
       "146  147            6.3           2.5            5.0           1.9   \n",
       "147  148            6.5           3.0            5.2           2.0   \n",
       "148  149            6.2           3.4            5.4           2.3   \n",
       "149  150            5.9           3.0            5.1           1.8   \n",
       "\n",
       "            Species  \n",
       "0       Iris-setosa  \n",
       "1       Iris-setosa  \n",
       "2       Iris-setosa  \n",
       "3       Iris-setosa  \n",
       "4       Iris-setosa  \n",
       "..              ...  \n",
       "145  Iris-virginica  \n",
       "146  Iris-virginica  \n",
       "147  Iris-virginica  \n",
       "148  Iris-virginica  \n",
       "149  Iris-virginica  \n",
       "\n",
       "[150 rows x 6 columns]"
      ]
     },
     "execution_count": 3,
     "metadata": {},
     "output_type": "execute_result"
    }
   ],
   "source": [
    "data"
   ]
  },
  {
   "cell_type": "markdown",
   "id": "8fd62104",
   "metadata": {},
   "source": [
    "### Data Understanding"
   ]
  },
  {
   "cell_type": "code",
   "execution_count": 4,
   "id": "f1c33918",
   "metadata": {},
   "outputs": [],
   "source": [
    "data.drop('Id', axis=1, inplace=True)           # Dropping extra unnecessary column from the dataset"
   ]
  },
  {
   "cell_type": "code",
   "execution_count": 5,
   "id": "89123715",
   "metadata": {},
   "outputs": [
    {
     "data": {
      "text/plain": [
       "(150, 5)"
      ]
     },
     "execution_count": 5,
     "metadata": {},
     "output_type": "execute_result"
    }
   ],
   "source": [
    "data.shape"
   ]
  },
  {
   "cell_type": "code",
   "execution_count": 6,
   "id": "ccead2fb",
   "metadata": {},
   "outputs": [
    {
     "data": {
      "text/html": [
       "<div>\n",
       "<style scoped>\n",
       "    .dataframe tbody tr th:only-of-type {\n",
       "        vertical-align: middle;\n",
       "    }\n",
       "\n",
       "    .dataframe tbody tr th {\n",
       "        vertical-align: top;\n",
       "    }\n",
       "\n",
       "    .dataframe thead th {\n",
       "        text-align: right;\n",
       "    }\n",
       "</style>\n",
       "<table border=\"1\" class=\"dataframe\">\n",
       "  <thead>\n",
       "    <tr style=\"text-align: right;\">\n",
       "      <th></th>\n",
       "      <th>SepalLengthCm</th>\n",
       "      <th>SepalWidthCm</th>\n",
       "      <th>PetalLengthCm</th>\n",
       "      <th>PetalWidthCm</th>\n",
       "      <th>Species</th>\n",
       "    </tr>\n",
       "  </thead>\n",
       "  <tbody>\n",
       "    <tr>\n",
       "      <th>0</th>\n",
       "      <td>5.1</td>\n",
       "      <td>3.5</td>\n",
       "      <td>1.4</td>\n",
       "      <td>0.2</td>\n",
       "      <td>Iris-setosa</td>\n",
       "    </tr>\n",
       "    <tr>\n",
       "      <th>1</th>\n",
       "      <td>4.9</td>\n",
       "      <td>3.0</td>\n",
       "      <td>1.4</td>\n",
       "      <td>0.2</td>\n",
       "      <td>Iris-setosa</td>\n",
       "    </tr>\n",
       "    <tr>\n",
       "      <th>2</th>\n",
       "      <td>4.7</td>\n",
       "      <td>3.2</td>\n",
       "      <td>1.3</td>\n",
       "      <td>0.2</td>\n",
       "      <td>Iris-setosa</td>\n",
       "    </tr>\n",
       "    <tr>\n",
       "      <th>3</th>\n",
       "      <td>4.6</td>\n",
       "      <td>3.1</td>\n",
       "      <td>1.5</td>\n",
       "      <td>0.2</td>\n",
       "      <td>Iris-setosa</td>\n",
       "    </tr>\n",
       "    <tr>\n",
       "      <th>4</th>\n",
       "      <td>5.0</td>\n",
       "      <td>3.6</td>\n",
       "      <td>1.4</td>\n",
       "      <td>0.2</td>\n",
       "      <td>Iris-setosa</td>\n",
       "    </tr>\n",
       "  </tbody>\n",
       "</table>\n",
       "</div>"
      ],
      "text/plain": [
       "   SepalLengthCm  SepalWidthCm  PetalLengthCm  PetalWidthCm      Species\n",
       "0            5.1           3.5            1.4           0.2  Iris-setosa\n",
       "1            4.9           3.0            1.4           0.2  Iris-setosa\n",
       "2            4.7           3.2            1.3           0.2  Iris-setosa\n",
       "3            4.6           3.1            1.5           0.2  Iris-setosa\n",
       "4            5.0           3.6            1.4           0.2  Iris-setosa"
      ]
     },
     "execution_count": 6,
     "metadata": {},
     "output_type": "execute_result"
    }
   ],
   "source": [
    "data.head()          # Check top 5 rows"
   ]
  },
  {
   "cell_type": "code",
   "execution_count": 7,
   "id": "431bea35",
   "metadata": {},
   "outputs": [
    {
     "data": {
      "text/html": [
       "<div>\n",
       "<style scoped>\n",
       "    .dataframe tbody tr th:only-of-type {\n",
       "        vertical-align: middle;\n",
       "    }\n",
       "\n",
       "    .dataframe tbody tr th {\n",
       "        vertical-align: top;\n",
       "    }\n",
       "\n",
       "    .dataframe thead th {\n",
       "        text-align: right;\n",
       "    }\n",
       "</style>\n",
       "<table border=\"1\" class=\"dataframe\">\n",
       "  <thead>\n",
       "    <tr style=\"text-align: right;\">\n",
       "      <th></th>\n",
       "      <th>SepalLengthCm</th>\n",
       "      <th>SepalWidthCm</th>\n",
       "      <th>PetalLengthCm</th>\n",
       "      <th>PetalWidthCm</th>\n",
       "      <th>Species</th>\n",
       "    </tr>\n",
       "  </thead>\n",
       "  <tbody>\n",
       "    <tr>\n",
       "      <th>145</th>\n",
       "      <td>6.7</td>\n",
       "      <td>3.0</td>\n",
       "      <td>5.2</td>\n",
       "      <td>2.3</td>\n",
       "      <td>Iris-virginica</td>\n",
       "    </tr>\n",
       "    <tr>\n",
       "      <th>146</th>\n",
       "      <td>6.3</td>\n",
       "      <td>2.5</td>\n",
       "      <td>5.0</td>\n",
       "      <td>1.9</td>\n",
       "      <td>Iris-virginica</td>\n",
       "    </tr>\n",
       "    <tr>\n",
       "      <th>147</th>\n",
       "      <td>6.5</td>\n",
       "      <td>3.0</td>\n",
       "      <td>5.2</td>\n",
       "      <td>2.0</td>\n",
       "      <td>Iris-virginica</td>\n",
       "    </tr>\n",
       "    <tr>\n",
       "      <th>148</th>\n",
       "      <td>6.2</td>\n",
       "      <td>3.4</td>\n",
       "      <td>5.4</td>\n",
       "      <td>2.3</td>\n",
       "      <td>Iris-virginica</td>\n",
       "    </tr>\n",
       "    <tr>\n",
       "      <th>149</th>\n",
       "      <td>5.9</td>\n",
       "      <td>3.0</td>\n",
       "      <td>5.1</td>\n",
       "      <td>1.8</td>\n",
       "      <td>Iris-virginica</td>\n",
       "    </tr>\n",
       "  </tbody>\n",
       "</table>\n",
       "</div>"
      ],
      "text/plain": [
       "     SepalLengthCm  SepalWidthCm  PetalLengthCm  PetalWidthCm         Species\n",
       "145            6.7           3.0            5.2           2.3  Iris-virginica\n",
       "146            6.3           2.5            5.0           1.9  Iris-virginica\n",
       "147            6.5           3.0            5.2           2.0  Iris-virginica\n",
       "148            6.2           3.4            5.4           2.3  Iris-virginica\n",
       "149            5.9           3.0            5.1           1.8  Iris-virginica"
      ]
     },
     "execution_count": 7,
     "metadata": {},
     "output_type": "execute_result"
    }
   ],
   "source": [
    "data.tail()          # Check last 5 rows"
   ]
  },
  {
   "cell_type": "code",
   "execution_count": 8,
   "id": "c89786e8",
   "metadata": {},
   "outputs": [
    {
     "name": "stdout",
     "output_type": "stream",
     "text": [
      "<class 'pandas.core.frame.DataFrame'>\n",
      "RangeIndex: 150 entries, 0 to 149\n",
      "Data columns (total 5 columns):\n",
      " #   Column         Non-Null Count  Dtype  \n",
      "---  ------         --------------  -----  \n",
      " 0   SepalLengthCm  150 non-null    float64\n",
      " 1   SepalWidthCm   150 non-null    float64\n",
      " 2   PetalLengthCm  150 non-null    float64\n",
      " 3   PetalWidthCm   150 non-null    float64\n",
      " 4   Species        150 non-null    object \n",
      "dtypes: float64(4), object(1)\n",
      "memory usage: 6.0+ KB\n"
     ]
    }
   ],
   "source": [
    "data.info()"
   ]
  },
  {
   "cell_type": "code",
   "execution_count": 9,
   "id": "852b42eb",
   "metadata": {},
   "outputs": [
    {
     "data": {
      "text/html": [
       "<div>\n",
       "<style scoped>\n",
       "    .dataframe tbody tr th:only-of-type {\n",
       "        vertical-align: middle;\n",
       "    }\n",
       "\n",
       "    .dataframe tbody tr th {\n",
       "        vertical-align: top;\n",
       "    }\n",
       "\n",
       "    .dataframe thead th {\n",
       "        text-align: right;\n",
       "    }\n",
       "</style>\n",
       "<table border=\"1\" class=\"dataframe\">\n",
       "  <thead>\n",
       "    <tr style=\"text-align: right;\">\n",
       "      <th></th>\n",
       "      <th>count</th>\n",
       "      <th>mean</th>\n",
       "      <th>std</th>\n",
       "      <th>min</th>\n",
       "      <th>25%</th>\n",
       "      <th>50%</th>\n",
       "      <th>75%</th>\n",
       "      <th>max</th>\n",
       "    </tr>\n",
       "  </thead>\n",
       "  <tbody>\n",
       "    <tr>\n",
       "      <th>SepalLengthCm</th>\n",
       "      <td>150.0</td>\n",
       "      <td>5.843333</td>\n",
       "      <td>0.828066</td>\n",
       "      <td>4.3</td>\n",
       "      <td>5.1</td>\n",
       "      <td>5.80</td>\n",
       "      <td>6.4</td>\n",
       "      <td>7.9</td>\n",
       "    </tr>\n",
       "    <tr>\n",
       "      <th>SepalWidthCm</th>\n",
       "      <td>150.0</td>\n",
       "      <td>3.054000</td>\n",
       "      <td>0.433594</td>\n",
       "      <td>2.0</td>\n",
       "      <td>2.8</td>\n",
       "      <td>3.00</td>\n",
       "      <td>3.3</td>\n",
       "      <td>4.4</td>\n",
       "    </tr>\n",
       "    <tr>\n",
       "      <th>PetalLengthCm</th>\n",
       "      <td>150.0</td>\n",
       "      <td>3.758667</td>\n",
       "      <td>1.764420</td>\n",
       "      <td>1.0</td>\n",
       "      <td>1.6</td>\n",
       "      <td>4.35</td>\n",
       "      <td>5.1</td>\n",
       "      <td>6.9</td>\n",
       "    </tr>\n",
       "    <tr>\n",
       "      <th>PetalWidthCm</th>\n",
       "      <td>150.0</td>\n",
       "      <td>1.198667</td>\n",
       "      <td>0.763161</td>\n",
       "      <td>0.1</td>\n",
       "      <td>0.3</td>\n",
       "      <td>1.30</td>\n",
       "      <td>1.8</td>\n",
       "      <td>2.5</td>\n",
       "    </tr>\n",
       "  </tbody>\n",
       "</table>\n",
       "</div>"
      ],
      "text/plain": [
       "               count      mean       std  min  25%   50%  75%  max\n",
       "SepalLengthCm  150.0  5.843333  0.828066  4.3  5.1  5.80  6.4  7.9\n",
       "SepalWidthCm   150.0  3.054000  0.433594  2.0  2.8  3.00  3.3  4.4\n",
       "PetalLengthCm  150.0  3.758667  1.764420  1.0  1.6  4.35  5.1  6.9\n",
       "PetalWidthCm   150.0  1.198667  0.763161  0.1  0.3  1.30  1.8  2.5"
      ]
     },
     "execution_count": 9,
     "metadata": {},
     "output_type": "execute_result"
    }
   ],
   "source": [
    "data.describe().T   #displays statistical summary"
   ]
  },
  {
   "cell_type": "markdown",
   "id": "cd973d5a",
   "metadata": {},
   "source": [
    "### Check if missing values present or not"
   ]
  },
  {
   "cell_type": "code",
   "execution_count": 10,
   "id": "61d6f448",
   "metadata": {},
   "outputs": [
    {
     "data": {
      "text/plain": [
       "SepalLengthCm    0\n",
       "SepalWidthCm     0\n",
       "PetalLengthCm    0\n",
       "PetalWidthCm     0\n",
       "Species          0\n",
       "dtype: int64"
      ]
     },
     "execution_count": 10,
     "metadata": {},
     "output_type": "execute_result"
    }
   ],
   "source": [
    "data.isnull().sum()             # Displays sum total of null values present in dataset"
   ]
  },
  {
   "cell_type": "code",
   "execution_count": 11,
   "id": "2cc573be",
   "metadata": {},
   "outputs": [
    {
     "data": {
      "text/plain": [
       "3"
      ]
     },
     "execution_count": 11,
     "metadata": {},
     "output_type": "execute_result"
    }
   ],
   "source": [
    "data.duplicated().sum()         # check for duplicates"
   ]
  },
  {
   "cell_type": "code",
   "execution_count": 12,
   "id": "6fa33587",
   "metadata": {},
   "outputs": [
    {
     "data": {
      "text/plain": [
       "SepalLengthCm    35\n",
       "SepalWidthCm     23\n",
       "PetalLengthCm    43\n",
       "PetalWidthCm     22\n",
       "Species           3\n",
       "dtype: int64"
      ]
     },
     "execution_count": 12,
     "metadata": {},
     "output_type": "execute_result"
    }
   ],
   "source": [
    "data.nunique()                  # check for uniques values"
   ]
  },
  {
   "cell_type": "code",
   "execution_count": 13,
   "id": "0857c9d7",
   "metadata": {},
   "outputs": [
    {
     "data": {
      "text/html": [
       "<div>\n",
       "<style scoped>\n",
       "    .dataframe tbody tr th:only-of-type {\n",
       "        vertical-align: middle;\n",
       "    }\n",
       "\n",
       "    .dataframe tbody tr th {\n",
       "        vertical-align: top;\n",
       "    }\n",
       "\n",
       "    .dataframe thead th {\n",
       "        text-align: right;\n",
       "    }\n",
       "</style>\n",
       "<table border=\"1\" class=\"dataframe\">\n",
       "  <thead>\n",
       "    <tr style=\"text-align: right;\">\n",
       "      <th></th>\n",
       "      <th>SepalLengthCm</th>\n",
       "      <th>SepalWidthCm</th>\n",
       "      <th>PetalLengthCm</th>\n",
       "      <th>PetalWidthCm</th>\n",
       "    </tr>\n",
       "  </thead>\n",
       "  <tbody>\n",
       "    <tr>\n",
       "      <th>SepalLengthCm</th>\n",
       "      <td>1.000000</td>\n",
       "      <td>-0.109369</td>\n",
       "      <td>0.871754</td>\n",
       "      <td>0.817954</td>\n",
       "    </tr>\n",
       "    <tr>\n",
       "      <th>SepalWidthCm</th>\n",
       "      <td>-0.109369</td>\n",
       "      <td>1.000000</td>\n",
       "      <td>-0.420516</td>\n",
       "      <td>-0.356544</td>\n",
       "    </tr>\n",
       "    <tr>\n",
       "      <th>PetalLengthCm</th>\n",
       "      <td>0.871754</td>\n",
       "      <td>-0.420516</td>\n",
       "      <td>1.000000</td>\n",
       "      <td>0.962757</td>\n",
       "    </tr>\n",
       "    <tr>\n",
       "      <th>PetalWidthCm</th>\n",
       "      <td>0.817954</td>\n",
       "      <td>-0.356544</td>\n",
       "      <td>0.962757</td>\n",
       "      <td>1.000000</td>\n",
       "    </tr>\n",
       "  </tbody>\n",
       "</table>\n",
       "</div>"
      ],
      "text/plain": [
       "               SepalLengthCm  SepalWidthCm  PetalLengthCm  PetalWidthCm\n",
       "SepalLengthCm       1.000000     -0.109369       0.871754      0.817954\n",
       "SepalWidthCm       -0.109369      1.000000      -0.420516     -0.356544\n",
       "PetalLengthCm       0.871754     -0.420516       1.000000      0.962757\n",
       "PetalWidthCm        0.817954     -0.356544       0.962757      1.000000"
      ]
     },
     "execution_count": 13,
     "metadata": {},
     "output_type": "execute_result"
    }
   ],
   "source": [
    "data.corr()                     # check correlation"
   ]
  },
  {
   "cell_type": "markdown",
   "id": "54bfdb9f",
   "metadata": {},
   "source": [
    "### Convert categorical feature into numerical using label encoding\n"
   ]
  },
  {
   "cell_type": "code",
   "execution_count": 14,
   "id": "fcc5b2b6",
   "metadata": {},
   "outputs": [],
   "source": [
    "from sklearn import preprocessing\n",
    "from sklearn.preprocessing import LabelEncoder"
   ]
  },
  {
   "cell_type": "code",
   "execution_count": 15,
   "id": "ccb8308c",
   "metadata": {},
   "outputs": [
    {
     "data": {
      "text/html": [
       "<div>\n",
       "<style scoped>\n",
       "    .dataframe tbody tr th:only-of-type {\n",
       "        vertical-align: middle;\n",
       "    }\n",
       "\n",
       "    .dataframe tbody tr th {\n",
       "        vertical-align: top;\n",
       "    }\n",
       "\n",
       "    .dataframe thead th {\n",
       "        text-align: right;\n",
       "    }\n",
       "</style>\n",
       "<table border=\"1\" class=\"dataframe\">\n",
       "  <thead>\n",
       "    <tr style=\"text-align: right;\">\n",
       "      <th></th>\n",
       "      <th>SepalLengthCm</th>\n",
       "      <th>SepalWidthCm</th>\n",
       "      <th>PetalLengthCm</th>\n",
       "      <th>PetalWidthCm</th>\n",
       "      <th>Species</th>\n",
       "    </tr>\n",
       "  </thead>\n",
       "  <tbody>\n",
       "    <tr>\n",
       "      <th>0</th>\n",
       "      <td>5.1</td>\n",
       "      <td>3.5</td>\n",
       "      <td>1.4</td>\n",
       "      <td>0.2</td>\n",
       "      <td>0</td>\n",
       "    </tr>\n",
       "    <tr>\n",
       "      <th>1</th>\n",
       "      <td>4.9</td>\n",
       "      <td>3.0</td>\n",
       "      <td>1.4</td>\n",
       "      <td>0.2</td>\n",
       "      <td>0</td>\n",
       "    </tr>\n",
       "    <tr>\n",
       "      <th>2</th>\n",
       "      <td>4.7</td>\n",
       "      <td>3.2</td>\n",
       "      <td>1.3</td>\n",
       "      <td>0.2</td>\n",
       "      <td>0</td>\n",
       "    </tr>\n",
       "    <tr>\n",
       "      <th>3</th>\n",
       "      <td>4.6</td>\n",
       "      <td>3.1</td>\n",
       "      <td>1.5</td>\n",
       "      <td>0.2</td>\n",
       "      <td>0</td>\n",
       "    </tr>\n",
       "    <tr>\n",
       "      <th>4</th>\n",
       "      <td>5.0</td>\n",
       "      <td>3.6</td>\n",
       "      <td>1.4</td>\n",
       "      <td>0.2</td>\n",
       "      <td>0</td>\n",
       "    </tr>\n",
       "    <tr>\n",
       "      <th>...</th>\n",
       "      <td>...</td>\n",
       "      <td>...</td>\n",
       "      <td>...</td>\n",
       "      <td>...</td>\n",
       "      <td>...</td>\n",
       "    </tr>\n",
       "    <tr>\n",
       "      <th>145</th>\n",
       "      <td>6.7</td>\n",
       "      <td>3.0</td>\n",
       "      <td>5.2</td>\n",
       "      <td>2.3</td>\n",
       "      <td>2</td>\n",
       "    </tr>\n",
       "    <tr>\n",
       "      <th>146</th>\n",
       "      <td>6.3</td>\n",
       "      <td>2.5</td>\n",
       "      <td>5.0</td>\n",
       "      <td>1.9</td>\n",
       "      <td>2</td>\n",
       "    </tr>\n",
       "    <tr>\n",
       "      <th>147</th>\n",
       "      <td>6.5</td>\n",
       "      <td>3.0</td>\n",
       "      <td>5.2</td>\n",
       "      <td>2.0</td>\n",
       "      <td>2</td>\n",
       "    </tr>\n",
       "    <tr>\n",
       "      <th>148</th>\n",
       "      <td>6.2</td>\n",
       "      <td>3.4</td>\n",
       "      <td>5.4</td>\n",
       "      <td>2.3</td>\n",
       "      <td>2</td>\n",
       "    </tr>\n",
       "    <tr>\n",
       "      <th>149</th>\n",
       "      <td>5.9</td>\n",
       "      <td>3.0</td>\n",
       "      <td>5.1</td>\n",
       "      <td>1.8</td>\n",
       "      <td>2</td>\n",
       "    </tr>\n",
       "  </tbody>\n",
       "</table>\n",
       "<p>150 rows × 5 columns</p>\n",
       "</div>"
      ],
      "text/plain": [
       "     SepalLengthCm  SepalWidthCm  PetalLengthCm  PetalWidthCm  Species\n",
       "0              5.1           3.5            1.4           0.2        0\n",
       "1              4.9           3.0            1.4           0.2        0\n",
       "2              4.7           3.2            1.3           0.2        0\n",
       "3              4.6           3.1            1.5           0.2        0\n",
       "4              5.0           3.6            1.4           0.2        0\n",
       "..             ...           ...            ...           ...      ...\n",
       "145            6.7           3.0            5.2           2.3        2\n",
       "146            6.3           2.5            5.0           1.9        2\n",
       "147            6.5           3.0            5.2           2.0        2\n",
       "148            6.2           3.4            5.4           2.3        2\n",
       "149            5.9           3.0            5.1           1.8        2\n",
       "\n",
       "[150 rows x 5 columns]"
      ]
     },
     "execution_count": 15,
     "metadata": {},
     "output_type": "execute_result"
    }
   ],
   "source": [
    "LabelEncoder = preprocessing.LabelEncoder()\n",
    "data['Species'] = LabelEncoder.fit_transform(data['Species'])\n",
    "data"
   ]
  },
  {
   "cell_type": "code",
   "execution_count": 16,
   "id": "32c306dd",
   "metadata": {},
   "outputs": [
    {
     "data": {
      "image/png": "[encoded data removed]",
      "text/plain": [
       "<Figure size 600x300 with 1 Axes>"
      ]
     },
     "metadata": {},
     "output_type": "display_data"
    },
    {
     "data": {
      "image/png": "[encoded data removed]",
      "text/plain": [
       "<Figure size 600x300 with 1 Axes>"
      ]
     },
     "metadata": {},
     "output_type": "display_data"
    },
    {
     "data": {
      "image/png": "[encoded data removed]",
      "text/plain": [
       "<Figure size 600x300 with 1 Axes>"
      ]
     },
     "metadata": {},
     "output_type": "display_data"
    },
    {
     "data": {
      "image/png": "[encoded data removed]",
      "text/plain": [
       "<Figure size 600x300 with 1 Axes>"
      ]
     },
     "metadata": {},
     "output_type": "display_data"
    }
   ],
   "source": [
    "for i in data.columns:                                ## Check for any outliers in the numeric data\n",
    "    if data[i].dtype=='float64':\n",
    "        plt.figure(figsize=(6,3))\n",
    "        sns.boxplot(data[i])\n",
    "        plt.show()"
   ]
  },
  {
   "cell_type": "code",
   "execution_count": 17,
   "id": "6ecd3d61",
   "metadata": {},
   "outputs": [],
   "source": [
    "q1,q3 = np.percentile(data['SepalWidthCm'],[25,75])                  ## Treating outliers present in the SepalWidthCm column\n",
    "iqr = q3-q1\n",
    "lower_fence = q1 - (1.5*iqr)\n",
    "upper_fence = q3 + (1.5*iqr)\n",
    "data['SepalWidthCm'] = data['SepalWidthCm'].apply(lambda x: upper_fence if x>upper_fence \n",
    "                                                  else lower_fence if x<lower_fence else x)"
   ]
  },
  {
   "cell_type": "code",
   "execution_count": 18,
   "id": "2fe57704",
   "metadata": {},
   "outputs": [
    {
     "data": {
      "text/plain": [
       "<AxesSubplot: >"
      ]
     },
     "execution_count": 18,
     "metadata": {},
     "output_type": "execute_result"
    },
    {
     "data": {
      "image/png": "[encoded data removed]",
      "text/plain": [
       "<Figure size 640x480 with 1 Axes>"
      ]
     },
     "metadata": {},
     "output_type": "display_data"
    }
   ],
   "source": [
    "sns.boxplot(data['SepalWidthCm'])"
   ]
  },
  {
   "cell_type": "markdown",
   "id": "3d773304",
   "metadata": {},
   "source": [
    "### Standardize data"
   ]
  },
  {
   "cell_type": "code",
   "execution_count": 19,
   "id": "3b26ee78",
   "metadata": {},
   "outputs": [
    {
     "data": {
      "text/plain": [
       "array([[-9.00681170e-01,  1.06572221e+00, -1.34127240e+00,\n",
       "        -1.31297673e+00, -1.22474487e+00],\n",
       "       [-1.14301691e+00, -1.20170457e-01, -1.34127240e+00,\n",
       "        -1.31297673e+00, -1.22474487e+00],\n",
       "       [-1.38535265e+00,  3.54186609e-01, -1.39813811e+00,\n",
       "        -1.31297673e+00, -1.22474487e+00],\n",
       "       [-1.50652052e+00,  1.17008076e-01, -1.28440670e+00,\n",
       "        -1.31297673e+00, -1.22474487e+00],\n",
       "       [-1.02184904e+00,  1.30290074e+00, -1.34127240e+00,\n",
       "        -1.31297673e+00, -1.22474487e+00],\n",
       "       [-5.37177559e-01,  2.01443634e+00, -1.17067529e+00,\n",
       "        -1.05003079e+00, -1.22474487e+00],\n",
       "       [-1.50652052e+00,  8.28543675e-01, -1.34127240e+00,\n",
       "        -1.18150376e+00, -1.22474487e+00],\n",
       "       [-1.02184904e+00,  8.28543675e-01, -1.28440670e+00,\n",
       "        -1.31297673e+00, -1.22474487e+00],\n",
       "       [-1.74885626e+00, -3.57348990e-01, -1.34127240e+00,\n",
       "        -1.31297673e+00, -1.22474487e+00],\n",
       "       [-1.14301691e+00,  1.17008076e-01, -1.28440670e+00,\n",
       "        -1.44444970e+00, -1.22474487e+00],\n",
       "       [-5.37177559e-01,  1.54007927e+00, -1.28440670e+00,\n",
       "        -1.31297673e+00, -1.22474487e+00],\n",
       "       [-1.26418478e+00,  8.28543675e-01, -1.22754100e+00,\n",
       "        -1.31297673e+00, -1.22474487e+00],\n",
       "       [-1.26418478e+00, -1.20170457e-01, -1.34127240e+00,\n",
       "        -1.44444970e+00, -1.22474487e+00],\n",
       "       [-1.87002413e+00, -1.20170457e-01, -1.51186952e+00,\n",
       "        -1.44444970e+00, -1.22474487e+00],\n",
       "       [-5.25060772e-02,  2.25161487e+00, -1.45500381e+00,\n",
       "        -1.31297673e+00, -1.22474487e+00],\n",
       "       [-1.73673948e-01,  2.37020414e+00, -1.28440670e+00,\n",
       "        -1.05003079e+00, -1.22474487e+00],\n",
       "       [-5.37177559e-01,  2.01443634e+00, -1.39813811e+00,\n",
       "        -1.05003079e+00, -1.22474487e+00],\n",
       "       [-9.00681170e-01,  1.06572221e+00, -1.34127240e+00,\n",
       "        -1.18150376e+00, -1.22474487e+00],\n",
       "       [-1.73673948e-01,  1.77725781e+00, -1.17067529e+00,\n",
       "        -1.18150376e+00, -1.22474487e+00],\n",
       "       [-9.00681170e-01,  1.77725781e+00, -1.28440670e+00,\n",
       "        -1.18150376e+00, -1.22474487e+00],\n",
       "       [-5.37177559e-01,  8.28543675e-01, -1.17067529e+00,\n",
       "        -1.31297673e+00, -1.22474487e+00],\n",
       "       [-9.00681170e-01,  1.54007927e+00, -1.28440670e+00,\n",
       "        -1.05003079e+00, -1.22474487e+00],\n",
       "       [-1.50652052e+00,  1.30290074e+00, -1.56873522e+00,\n",
       "        -1.31297673e+00, -1.22474487e+00],\n",
       "       [-9.00681170e-01,  5.91365142e-01, -1.17067529e+00,\n",
       "        -9.18557817e-01, -1.22474487e+00],\n",
       "       [-1.26418478e+00,  8.28543675e-01, -1.05694388e+00,\n",
       "        -1.31297673e+00, -1.22474487e+00],\n",
       "       [-1.02184904e+00, -1.20170457e-01, -1.22754100e+00,\n",
       "        -1.31297673e+00, -1.22474487e+00],\n",
       "       [-1.02184904e+00,  8.28543675e-01, -1.22754100e+00,\n",
       "        -1.05003079e+00, -1.22474487e+00],\n",
       "       [-7.79513300e-01,  1.06572221e+00, -1.28440670e+00,\n",
       "        -1.31297673e+00, -1.22474487e+00],\n",
       "       [-7.79513300e-01,  8.28543675e-01, -1.34127240e+00,\n",
       "        -1.31297673e+00, -1.22474487e+00],\n",
       "       [-1.38535265e+00,  3.54186609e-01, -1.22754100e+00,\n",
       "        -1.31297673e+00, -1.22474487e+00],\n",
       "       [-1.26418478e+00,  1.17008076e-01, -1.22754100e+00,\n",
       "        -1.31297673e+00, -1.22474487e+00],\n",
       "       [-5.37177559e-01,  8.28543675e-01, -1.28440670e+00,\n",
       "        -1.05003079e+00, -1.22474487e+00],\n",
       "       [-7.79513300e-01,  2.37020414e+00, -1.28440670e+00,\n",
       "        -1.44444970e+00, -1.22474487e+00],\n",
       "       [-4.16009689e-01,  2.37020414e+00, -1.34127240e+00,\n",
       "        -1.31297673e+00, -1.22474487e+00],\n",
       "       [-1.14301691e+00,  1.17008076e-01, -1.28440670e+00,\n",
       "        -1.44444970e+00, -1.22474487e+00],\n",
       "       [-1.02184904e+00,  3.54186609e-01, -1.45500381e+00,\n",
       "        -1.31297673e+00, -1.22474487e+00],\n",
       "       [-4.16009689e-01,  1.06572221e+00, -1.39813811e+00,\n",
       "        -1.31297673e+00, -1.22474487e+00],\n",
       "       [-1.14301691e+00,  1.17008076e-01, -1.28440670e+00,\n",
       "        -1.44444970e+00, -1.22474487e+00],\n",
       "       [-1.74885626e+00, -1.20170457e-01, -1.39813811e+00,\n",
       "        -1.31297673e+00, -1.22474487e+00],\n",
       "       [-9.00681170e-01,  8.28543675e-01, -1.28440670e+00,\n",
       "        -1.31297673e+00, -1.22474487e+00],\n",
       "       [-1.02184904e+00,  1.06572221e+00, -1.39813811e+00,\n",
       "        -1.18150376e+00, -1.22474487e+00],\n",
       "       [-1.62768839e+00, -1.78042019e+00, -1.39813811e+00,\n",
       "        -1.18150376e+00, -1.22474487e+00],\n",
       "       [-1.74885626e+00,  3.54186609e-01, -1.39813811e+00,\n",
       "        -1.31297673e+00, -1.22474487e+00],\n",
       "       [-1.02184904e+00,  1.06572221e+00, -1.22754100e+00,\n",
       "        -7.87084847e-01, -1.22474487e+00],\n",
       "       [-9.00681170e-01,  1.77725781e+00, -1.05694388e+00,\n",
       "        -1.05003079e+00, -1.22474487e+00],\n",
       "       [-1.26418478e+00, -1.20170457e-01, -1.34127240e+00,\n",
       "        -1.18150376e+00, -1.22474487e+00],\n",
       "       [-9.00681170e-01,  1.77725781e+00, -1.22754100e+00,\n",
       "        -1.31297673e+00, -1.22474487e+00],\n",
       "       [-1.50652052e+00,  3.54186609e-01, -1.34127240e+00,\n",
       "        -1.31297673e+00, -1.22474487e+00],\n",
       "       [-6.58345429e-01,  1.54007927e+00, -1.28440670e+00,\n",
       "        -1.31297673e+00, -1.22474487e+00],\n",
       "       [-1.02184904e+00,  5.91365142e-01, -1.34127240e+00,\n",
       "        -1.31297673e+00, -1.22474487e+00],\n",
       "       [ 1.40150837e+00,  3.54186609e-01,  5.35295827e-01,\n",
       "         2.64698913e-01,  0.00000000e+00],\n",
       "       [ 6.74501145e-01,  3.54186609e-01,  4.21564419e-01,\n",
       "         3.96171883e-01,  0.00000000e+00],\n",
       "       [ 1.28034050e+00,  1.17008076e-01,  6.49027235e-01,\n",
       "         3.96171883e-01,  0.00000000e+00],\n",
       "       [-4.16009689e-01, -1.78042019e+00,  1.37235899e-01,\n",
       "         1.33225943e-01,  0.00000000e+00],\n",
       "       [ 7.95669016e-01, -5.94527523e-01,  4.78430123e-01,\n",
       "         3.96171883e-01,  0.00000000e+00],\n",
       "       [-1.73673948e-01, -5.94527523e-01,  4.21564419e-01,\n",
       "         1.33225943e-01,  0.00000000e+00],\n",
       "       [ 5.53333275e-01,  5.91365142e-01,  5.35295827e-01,\n",
       "         5.27644853e-01,  0.00000000e+00],\n",
       "       [-1.14301691e+00, -1.54324165e+00, -2.60824029e-01,\n",
       "        -2.61192967e-01,  0.00000000e+00],\n",
       "       [ 9.16836886e-01, -3.57348990e-01,  4.78430123e-01,\n",
       "         1.33225943e-01,  0.00000000e+00],\n",
       "       [-7.79513300e-01, -8.31706056e-01,  8.03701950e-02,\n",
       "         2.64698913e-01,  0.00000000e+00],\n",
       "       [-1.02184904e+00, -2.37336652e+00, -1.47092621e-01,\n",
       "        -2.61192967e-01,  0.00000000e+00],\n",
       "       [ 6.86617933e-02, -1.20170457e-01,  2.50967307e-01,\n",
       "         3.96171883e-01,  0.00000000e+00],\n",
       "       [ 1.89829664e-01, -2.01759872e+00,  1.37235899e-01,\n",
       "        -2.61192967e-01,  0.00000000e+00],\n",
       "       [ 3.10997534e-01, -3.57348990e-01,  5.35295827e-01,\n",
       "         2.64698913e-01,  0.00000000e+00],\n",
       "       [-2.94841818e-01, -3.57348990e-01, -9.02269170e-02,\n",
       "         1.33225943e-01,  0.00000000e+00],\n",
       "       [ 1.03800476e+00,  1.17008076e-01,  3.64698715e-01,\n",
       "         2.64698913e-01,  0.00000000e+00],\n",
       "       [-2.94841818e-01, -1.20170457e-01,  4.21564419e-01,\n",
       "         3.96171883e-01,  0.00000000e+00],\n",
       "       [-5.25060772e-02, -8.31706056e-01,  1.94101603e-01,\n",
       "        -2.61192967e-01,  0.00000000e+00],\n",
       "       [ 4.32165405e-01, -2.01759872e+00,  4.21564419e-01,\n",
       "         3.96171883e-01,  0.00000000e+00],\n",
       "       [-2.94841818e-01, -1.30606312e+00,  8.03701950e-02,\n",
       "        -1.29719997e-01,  0.00000000e+00],\n",
       "       [ 6.86617933e-02,  3.54186609e-01,  5.92161531e-01,\n",
       "         7.90590793e-01,  0.00000000e+00],\n",
       "       [ 3.10997534e-01, -5.94527523e-01,  1.37235899e-01,\n",
       "         1.33225943e-01,  0.00000000e+00],\n",
       "       [ 5.53333275e-01, -1.30606312e+00,  6.49027235e-01,\n",
       "         3.96171883e-01,  0.00000000e+00],\n",
       "       [ 3.10997534e-01, -5.94527523e-01,  5.35295827e-01,\n",
       "         1.75297293e-03,  0.00000000e+00],\n",
       "       [ 6.74501145e-01, -3.57348990e-01,  3.07833011e-01,\n",
       "         1.33225943e-01,  0.00000000e+00],\n",
       "       [ 9.16836886e-01, -1.20170457e-01,  3.64698715e-01,\n",
       "         2.64698913e-01,  0.00000000e+00],\n",
       "       [ 1.15917263e+00, -5.94527523e-01,  5.92161531e-01,\n",
       "         2.64698913e-01,  0.00000000e+00],\n",
       "       [ 1.03800476e+00, -1.20170457e-01,  7.05892939e-01,\n",
       "         6.59117823e-01,  0.00000000e+00],\n",
       "       [ 1.89829664e-01, -3.57348990e-01,  4.21564419e-01,\n",
       "         3.96171883e-01,  0.00000000e+00],\n",
       "       [-1.73673948e-01, -1.06888459e+00, -1.47092621e-01,\n",
       "        -2.61192967e-01,  0.00000000e+00],\n",
       "       [-4.16009689e-01, -1.54324165e+00,  2.35044910e-02,\n",
       "        -1.29719997e-01,  0.00000000e+00],\n",
       "       [-4.16009689e-01, -1.54324165e+00, -3.33612130e-02,\n",
       "        -2.61192967e-01,  0.00000000e+00],\n",
       "       [-5.25060772e-02, -8.31706056e-01,  8.03701950e-02,\n",
       "         1.75297293e-03,  0.00000000e+00],\n",
       "       [ 1.89829664e-01, -8.31706056e-01,  7.62758643e-01,\n",
       "         5.27644853e-01,  0.00000000e+00],\n",
       "       [-5.37177559e-01, -1.20170457e-01,  4.21564419e-01,\n",
       "         3.96171883e-01,  0.00000000e+00],\n",
       "       [ 1.89829664e-01,  8.28543675e-01,  4.21564419e-01,\n",
       "         5.27644853e-01,  0.00000000e+00],\n",
       "       [ 1.03800476e+00,  1.17008076e-01,  5.35295827e-01,\n",
       "         3.96171883e-01,  0.00000000e+00],\n",
       "       [ 5.53333275e-01, -1.78042019e+00,  3.64698715e-01,\n",
       "         1.33225943e-01,  0.00000000e+00],\n",
       "       [-2.94841818e-01, -1.20170457e-01,  1.94101603e-01,\n",
       "         1.33225943e-01,  0.00000000e+00],\n",
       "       [-4.16009689e-01, -1.30606312e+00,  1.37235899e-01,\n",
       "         1.33225943e-01,  0.00000000e+00],\n",
       "       [-4.16009689e-01, -1.06888459e+00,  3.64698715e-01,\n",
       "         1.75297293e-03,  0.00000000e+00],\n",
       "       [ 3.10997534e-01, -1.20170457e-01,  4.78430123e-01,\n",
       "         2.64698913e-01,  0.00000000e+00],\n",
       "       [-5.25060772e-02, -1.06888459e+00,  1.37235899e-01,\n",
       "         1.75297293e-03,  0.00000000e+00],\n",
       "       [-1.02184904e+00, -1.78042019e+00, -2.60824029e-01,\n",
       "        -2.61192967e-01,  0.00000000e+00],\n",
       "       [-2.94841818e-01, -8.31706056e-01,  2.50967307e-01,\n",
       "         1.33225943e-01,  0.00000000e+00],\n",
       "       [-1.73673948e-01, -1.20170457e-01,  2.50967307e-01,\n",
       "         1.75297293e-03,  0.00000000e+00],\n",
       "       [-1.73673948e-01, -3.57348990e-01,  2.50967307e-01,\n",
       "         1.33225943e-01,  0.00000000e+00],\n",
       "       [ 4.32165405e-01, -3.57348990e-01,  3.07833011e-01,\n",
       "         1.33225943e-01,  0.00000000e+00],\n",
       "       [-9.00681170e-01, -1.30606312e+00, -4.31421141e-01,\n",
       "        -1.29719997e-01,  0.00000000e+00],\n",
       "       [-1.73673948e-01, -5.94527523e-01,  1.94101603e-01,\n",
       "         1.33225943e-01,  0.00000000e+00],\n",
       "       [ 5.53333275e-01,  5.91365142e-01,  1.27454998e+00,\n",
       "         1.71090158e+00,  1.22474487e+00],\n",
       "       [-5.25060772e-02, -8.31706056e-01,  7.62758643e-01,\n",
       "         9.22063763e-01,  1.22474487e+00],\n",
       "       [ 1.52267624e+00, -1.20170457e-01,  1.21768427e+00,\n",
       "         1.18500970e+00,  1.22474487e+00],\n",
       "       [ 5.53333275e-01, -3.57348990e-01,  1.04708716e+00,\n",
       "         7.90590793e-01,  1.22474487e+00],\n",
       "       [ 7.95669016e-01, -1.20170457e-01,  1.16081857e+00,\n",
       "         1.31648267e+00,  1.22474487e+00],\n",
       "       [ 2.12851559e+00, -1.20170457e-01,  1.61574420e+00,\n",
       "         1.18500970e+00,  1.22474487e+00],\n",
       "       [-1.14301691e+00, -1.30606312e+00,  4.21564419e-01,\n",
       "         6.59117823e-01,  1.22474487e+00],\n",
       "       [ 1.76501198e+00, -3.57348990e-01,  1.44514709e+00,\n",
       "         7.90590793e-01,  1.22474487e+00],\n",
       "       [ 1.03800476e+00, -1.30606312e+00,  1.16081857e+00,\n",
       "         7.90590793e-01,  1.22474487e+00],\n",
       "       [ 1.64384411e+00,  1.30290074e+00,  1.33141568e+00,\n",
       "         1.71090158e+00,  1.22474487e+00],\n",
       "       [ 7.95669016e-01,  3.54186609e-01,  7.62758643e-01,\n",
       "         1.05353673e+00,  1.22474487e+00],\n",
       "       [ 6.74501145e-01, -8.31706056e-01,  8.76490051e-01,\n",
       "         9.22063763e-01,  1.22474487e+00],\n",
       "       [ 1.15917263e+00, -1.20170457e-01,  9.90221459e-01,\n",
       "         1.18500970e+00,  1.22474487e+00],\n",
       "       [-1.73673948e-01, -1.30606312e+00,  7.05892939e-01,\n",
       "         1.05353673e+00,  1.22474487e+00],\n",
       "       [-5.25060772e-02, -5.94527523e-01,  7.62758643e-01,\n",
       "         1.57942861e+00,  1.22474487e+00],\n",
       "       [ 6.74501145e-01,  3.54186609e-01,  8.76490051e-01,\n",
       "         1.44795564e+00,  1.22474487e+00],\n",
       "       [ 7.95669016e-01, -1.20170457e-01,  9.90221459e-01,\n",
       "         7.90590793e-01,  1.22474487e+00],\n",
       "       [ 2.24968346e+00,  1.77725781e+00,  1.67260991e+00,\n",
       "         1.31648267e+00,  1.22474487e+00],\n",
       "       [ 2.24968346e+00, -1.06888459e+00,  1.78634131e+00,\n",
       "         1.44795564e+00,  1.22474487e+00],\n",
       "       [ 1.89829664e-01, -2.01759872e+00,  7.05892939e-01,\n",
       "         3.96171883e-01,  1.22474487e+00],\n",
       "       [ 1.28034050e+00,  3.54186609e-01,  1.10395287e+00,\n",
       "         1.44795564e+00,  1.22474487e+00],\n",
       "       [-2.94841818e-01, -5.94527523e-01,  6.49027235e-01,\n",
       "         1.05353673e+00,  1.22474487e+00],\n",
       "       [ 2.24968346e+00, -5.94527523e-01,  1.67260991e+00,\n",
       "         1.05353673e+00,  1.22474487e+00],\n",
       "       [ 5.53333275e-01, -8.31706056e-01,  6.49027235e-01,\n",
       "         7.90590793e-01,  1.22474487e+00],\n",
       "       [ 1.03800476e+00,  5.91365142e-01,  1.10395287e+00,\n",
       "         1.18500970e+00,  1.22474487e+00],\n",
       "       [ 1.64384411e+00,  3.54186609e-01,  1.27454998e+00,\n",
       "         7.90590793e-01,  1.22474487e+00],\n",
       "       [ 4.32165405e-01, -5.94527523e-01,  5.92161531e-01,\n",
       "         7.90590793e-01,  1.22474487e+00],\n",
       "       [ 3.10997534e-01, -1.20170457e-01,  6.49027235e-01,\n",
       "         7.90590793e-01,  1.22474487e+00],\n",
       "       [ 6.74501145e-01, -5.94527523e-01,  1.04708716e+00,\n",
       "         1.18500970e+00,  1.22474487e+00],\n",
       "       [ 1.64384411e+00, -1.20170457e-01,  1.16081857e+00,\n",
       "         5.27644853e-01,  1.22474487e+00],\n",
       "       [ 1.88617985e+00, -5.94527523e-01,  1.33141568e+00,\n",
       "         9.22063763e-01,  1.22474487e+00],\n",
       "       [ 2.49201920e+00,  1.77725781e+00,  1.50201279e+00,\n",
       "         1.05353673e+00,  1.22474487e+00],\n",
       "       [ 6.74501145e-01, -5.94527523e-01,  1.04708716e+00,\n",
       "         1.31648267e+00,  1.22474487e+00],\n",
       "       [ 5.53333275e-01, -5.94527523e-01,  7.62758643e-01,\n",
       "         3.96171883e-01,  1.22474487e+00],\n",
       "       [ 3.10997534e-01, -1.06888459e+00,  1.04708716e+00,\n",
       "         2.64698913e-01,  1.22474487e+00],\n",
       "       [ 2.24968346e+00, -1.20170457e-01,  1.33141568e+00,\n",
       "         1.44795564e+00,  1.22474487e+00],\n",
       "       [ 5.53333275e-01,  8.28543675e-01,  1.04708716e+00,\n",
       "         1.57942861e+00,  1.22474487e+00],\n",
       "       [ 6.74501145e-01,  1.17008076e-01,  9.90221459e-01,\n",
       "         7.90590793e-01,  1.22474487e+00],\n",
       "       [ 1.89829664e-01, -1.20170457e-01,  5.92161531e-01,\n",
       "         7.90590793e-01,  1.22474487e+00],\n",
       "       [ 1.28034050e+00,  1.17008076e-01,  9.33355755e-01,\n",
       "         1.18500970e+00,  1.22474487e+00],\n",
       "       [ 1.03800476e+00,  1.17008076e-01,  1.04708716e+00,\n",
       "         1.57942861e+00,  1.22474487e+00],\n",
       "       [ 1.28034050e+00,  1.17008076e-01,  7.62758643e-01,\n",
       "         1.44795564e+00,  1.22474487e+00],\n",
       "       [-5.25060772e-02, -8.31706056e-01,  7.62758643e-01,\n",
       "         9.22063763e-01,  1.22474487e+00],\n",
       "       [ 1.15917263e+00,  3.54186609e-01,  1.21768427e+00,\n",
       "         1.44795564e+00,  1.22474487e+00],\n",
       "       [ 1.03800476e+00,  5.91365142e-01,  1.10395287e+00,\n",
       "         1.71090158e+00,  1.22474487e+00],\n",
       "       [ 1.03800476e+00, -1.20170457e-01,  8.19624347e-01,\n",
       "         1.44795564e+00,  1.22474487e+00],\n",
       "       [ 5.53333275e-01, -1.30606312e+00,  7.05892939e-01,\n",
       "         9.22063763e-01,  1.22474487e+00],\n",
       "       [ 7.95669016e-01, -1.20170457e-01,  8.19624347e-01,\n",
       "         1.05353673e+00,  1.22474487e+00],\n",
       "       [ 4.32165405e-01,  8.28543675e-01,  9.33355755e-01,\n",
       "         1.44795564e+00,  1.22474487e+00],\n",
       "       [ 6.86617933e-02, -1.20170457e-01,  7.62758643e-01,\n",
       "         7.90590793e-01,  1.22474487e+00]])"
      ]
     },
     "execution_count": 19,
     "metadata": {},
     "output_type": "execute_result"
    }
   ],
   "source": [
    "from sklearn.preprocessing import StandardScaler\n",
    "scaler = StandardScaler()\n",
    "scaled_data = scaler.fit_transform(data)\n",
    "\n",
    "scaled_data"
   ]
  },
  {
   "cell_type": "code",
   "execution_count": 20,
   "id": "a3f2afff",
   "metadata": {},
   "outputs": [
    {
     "data": {
      "text/plain": [
       "array([0, 1, 2])"
      ]
     },
     "execution_count": 20,
     "metadata": {},
     "output_type": "execute_result"
    }
   ],
   "source": [
    "data.Species.unique()"
   ]
  },
  {
   "cell_type": "markdown",
   "id": "c57845ba",
   "metadata": {},
   "source": [
    "### Model building"
   ]
  },
  {
   "cell_type": "code",
   "execution_count": 21,
   "id": "bd2248e9",
   "metadata": {},
   "outputs": [],
   "source": [
    "from sklearn.cluster import AgglomerativeClustering\n",
    "cc = AgglomerativeClustering(n_clusters=4, affinity = 'euclidean', linkage = 'single')     # create clusters"
   ]
  },
  {
   "cell_type": "code",
   "execution_count": 22,
   "id": "3b7df559",
   "metadata": {},
   "outputs": [
    {
     "data": {
      "text/html": [
       "<div>\n",
       "<style scoped>\n",
       "    .dataframe tbody tr th:only-of-type {\n",
       "        vertical-align: middle;\n",
       "    }\n",
       "\n",
       "    .dataframe tbody tr th {\n",
       "        vertical-align: top;\n",
       "    }\n",
       "\n",
       "    .dataframe thead th {\n",
       "        text-align: right;\n",
       "    }\n",
       "</style>\n",
       "<table border=\"1\" class=\"dataframe\">\n",
       "  <thead>\n",
       "    <tr style=\"text-align: right;\">\n",
       "      <th></th>\n",
       "      <th>Clusters</th>\n",
       "    </tr>\n",
       "  </thead>\n",
       "  <tbody>\n",
       "    <tr>\n",
       "      <th>0</th>\n",
       "      <td>2</td>\n",
       "    </tr>\n",
       "    <tr>\n",
       "      <th>1</th>\n",
       "      <td>2</td>\n",
       "    </tr>\n",
       "    <tr>\n",
       "      <th>2</th>\n",
       "      <td>2</td>\n",
       "    </tr>\n",
       "    <tr>\n",
       "      <th>3</th>\n",
       "      <td>2</td>\n",
       "    </tr>\n",
       "    <tr>\n",
       "      <th>4</th>\n",
       "      <td>2</td>\n",
       "    </tr>\n",
       "    <tr>\n",
       "      <th>...</th>\n",
       "      <td>...</td>\n",
       "    </tr>\n",
       "    <tr>\n",
       "      <th>145</th>\n",
       "      <td>0</td>\n",
       "    </tr>\n",
       "    <tr>\n",
       "      <th>146</th>\n",
       "      <td>0</td>\n",
       "    </tr>\n",
       "    <tr>\n",
       "      <th>147</th>\n",
       "      <td>0</td>\n",
       "    </tr>\n",
       "    <tr>\n",
       "      <th>148</th>\n",
       "      <td>0</td>\n",
       "    </tr>\n",
       "    <tr>\n",
       "      <th>149</th>\n",
       "      <td>0</td>\n",
       "    </tr>\n",
       "  </tbody>\n",
       "</table>\n",
       "<p>150 rows × 1 columns</p>\n",
       "</div>"
      ],
      "text/plain": [
       "     Clusters\n",
       "0           2\n",
       "1           2\n",
       "2           2\n",
       "3           2\n",
       "4           2\n",
       "..        ...\n",
       "145         0\n",
       "146         0\n",
       "147         0\n",
       "148         0\n",
       "149         0\n",
       "\n",
       "[150 rows x 1 columns]"
      ]
     },
     "execution_count": 22,
     "metadata": {},
     "output_type": "execute_result"
    }
   ],
   "source": [
    "y_cc = cc.fit_predict(scaled_data)\n",
    "Clusters=pd.DataFrame(y_cc,columns=['Clusters'])\n",
    "Clusters"
   ]
  },
  {
   "cell_type": "markdown",
   "id": "34122461",
   "metadata": {},
   "source": [
    "### K-Means Clustering"
   ]
  },
  {
   "cell_type": "code",
   "execution_count": 23,
   "id": "49e2a0e5",
   "metadata": {},
   "outputs": [],
   "source": [
    "from sklearn.cluster import KMeans"
   ]
  },
  {
   "cell_type": "code",
   "execution_count": 24,
   "id": "967ce922",
   "metadata": {},
   "outputs": [
    {
     "data": {
      "image/png": "[encoded data removed]",
      "text/plain": [
       "<Figure size 640x480 with 1 Axes>"
      ]
     },
     "metadata": {},
     "output_type": "display_data"
    }
   ],
   "source": [
    "wcss = []\n",
    "for i in range(1, 11):\n",
    "    kmeans = KMeans(n_clusters=i,random_state=0)\n",
    "    kmeans.fit(scaled_data)\n",
    "    wcss.append(kmeans.inertia_)\n",
    "    \n",
    "plt.plot(range(1, 11), wcss, marker='o', color='purple')\n",
    "plt.title('Elbow Method')\n",
    "plt.xlabel('Number of clusters')\n",
    "plt.ylabel('WCSS')\n",
    "plt.grid()\n",
    "plt.show()"
   ]
  },
  {
   "cell_type": "markdown",
   "id": "f558ceec",
   "metadata": {},
   "source": [
    "#### *===> You can clearly see why it is called 'The elbow method' from the above graph, the optimum clusters is where the elbow occurs. This is when the within cluster sum of squares (WCSS) doesn't decrease significantly with every iteration.*"
   ]
  },
  {
   "cell_type": "code",
   "execution_count": 25,
   "id": "de170a06",
   "metadata": {},
   "outputs": [
    {
     "data": {
      "text/plain": [
       "[749.9999999999999,\n",
       " 260.8726568107453,\n",
       " 162.47940204088476,\n",
       " 134.37882375270647,\n",
       " 108.98528907863553,\n",
       " 84.1565966119573,\n",
       " 75.94244264585153,\n",
       " 66.09061907995269,\n",
       " 57.08901492110105,\n",
       " 50.20678287294913]"
      ]
     },
     "execution_count": 25,
     "metadata": {},
     "output_type": "execute_result"
    }
   ],
   "source": [
    "wcss"
   ]
  },
  {
   "cell_type": "code",
   "execution_count": 26,
   "id": "718bc335",
   "metadata": {},
   "outputs": [
    {
     "data": {
      "text/html": [
       "<style>#sk-container-id-1 {color: black;background-color: white;}#sk-container-id-1 pre{padding: 0;}#sk-container-id-1 div.sk-toggleable {background-color: white;}#sk-container-id-1 label.sk-toggleable__label {cursor: pointer;display: block;width: 100%;margin-bottom: 0;padding: 0.3em;box-sizing: border-box;text-align: center;}#sk-container-id-1 label.sk-toggleable__label-arrow:before {content: \"▸\";float: left;margin-right: 0.25em;color: #696969;}#sk-container-id-1 label.sk-toggleable__label-arrow:hover:before {color: black;}#sk-container-id-1 div.sk-estimator:hover label.sk-toggleable__label-arrow:before {color: black;}#sk-container-id-1 div.sk-toggleable__content {max-height: 0;max-width: 0;overflow: hidden;text-align: left;background-color: #f0f8ff;}#sk-container-id-1 div.sk-toggleable__content pre {margin: 0.2em;color: black;border-radius: 0.25em;background-color: #f0f8ff;}#sk-container-id-1 input.sk-toggleable__control:checked~div.sk-toggleable__content {max-height: 200px;max-width: 100%;overflow: auto;}#sk-container-id-1 input.sk-toggleable__control:checked~label.sk-toggleable__label-arrow:before {content: \"▾\";}#sk-container-id-1 div.sk-estimator input.sk-toggleable__control:checked~label.sk-toggleable__label {background-color: #d4ebff;}#sk-container-id-1 div.sk-label input.sk-toggleable__control:checked~label.sk-toggleable__label {background-color: #d4ebff;}#sk-container-id-1 input.sk-hidden--visually {border: 0;clip: rect(1px 1px 1px 1px);clip: rect(1px, 1px, 1px, 1px);height: 1px;margin: -1px;overflow: hidden;padding: 0;position: absolute;width: 1px;}#sk-container-id-1 div.sk-estimator {font-family: monospace;background-color: #f0f8ff;border: 1px dotted black;border-radius: 0.25em;box-sizing: border-box;margin-bottom: 0.5em;}#sk-container-id-1 div.sk-estimator:hover {background-color: #d4ebff;}#sk-container-id-1 div.sk-parallel-item::after {content: \"\";width: 100%;border-bottom: 1px solid gray;flex-grow: 1;}#sk-container-id-1 div.sk-label:hover label.sk-toggleable__label {background-color: #d4ebff;}#sk-container-id-1 div.sk-serial::before {content: \"\";position: absolute;border-left: 1px solid gray;box-sizing: border-box;top: 0;bottom: 0;left: 50%;z-index: 0;}#sk-container-id-1 div.sk-serial {display: flex;flex-direction: column;align-items: center;background-color: white;padding-right: 0.2em;padding-left: 0.2em;position: relative;}#sk-container-id-1 div.sk-item {position: relative;z-index: 1;}#sk-container-id-1 div.sk-parallel {display: flex;align-items: stretch;justify-content: center;background-color: white;position: relative;}#sk-container-id-1 div.sk-item::before, #sk-container-id-1 div.sk-parallel-item::before {content: \"\";position: absolute;border-left: 1px solid gray;box-sizing: border-box;top: 0;bottom: 0;left: 50%;z-index: -1;}#sk-container-id-1 div.sk-parallel-item {display: flex;flex-direction: column;z-index: 1;position: relative;background-color: white;}#sk-container-id-1 div.sk-parallel-item:first-child::after {align-self: flex-end;width: 50%;}#sk-container-id-1 div.sk-parallel-item:last-child::after {align-self: flex-start;width: 50%;}#sk-container-id-1 div.sk-parallel-item:only-child::after {width: 0;}#sk-container-id-1 div.sk-dashed-wrapped {border: 1px dashed gray;margin: 0 0.4em 0.5em 0.4em;box-sizing: border-box;padding-bottom: 0.4em;background-color: white;}#sk-container-id-1 div.sk-label label {font-family: monospace;font-weight: bold;display: inline-block;line-height: 1.2em;}#sk-container-id-1 div.sk-label-container {text-align: center;}#sk-container-id-1 div.sk-container {/* jupyter's `normalize.less` sets `[hidden] { display: none; }` but bootstrap.min.css set `[hidden] { display: none !important; }` so we also need the `!important` here to be able to override the default hidden behavior on the sphinx rendered scikit-learn.org. See: https://github.com/scikit-learn/scikit-learn/issues/21755 */display: inline-block !important;position: relative;}#sk-container-id-1 div.sk-text-repr-fallback {display: none;}</style><div id=\"sk-container-id-1\" class=\"sk-top-container\"><div class=\"sk-text-repr-fallback\"><pre>KMeans(algorithm=&#x27;auto&#x27;, max_iter=500, n_clusters=3, random_state=42)</pre><b>In a Jupyter environment, please rerun this cell to show the HTML representation or trust the notebook. <br />On GitHub, the HTML representation is unable to render, please try loading this page with nbviewer.org.</b></div><div class=\"sk-container\" hidden><div class=\"sk-item\"><div class=\"sk-estimator sk-toggleable\"><input class=\"sk-toggleable__control sk-hidden--visually\" id=\"sk-estimator-id-1\" type=\"checkbox\" checked><label for=\"sk-estimator-id-1\" class=\"sk-toggleable__label sk-toggleable__label-arrow\">KMeans</label><div class=\"sk-toggleable__content\"><pre>KMeans(algorithm=&#x27;auto&#x27;, max_iter=500, n_clusters=3, random_state=42)</pre></div></div></div></div></div>"
      ],
      "text/plain": [
       "KMeans(algorithm='auto', max_iter=500, n_clusters=3, random_state=42)"
      ]
     },
     "execution_count": 26,
     "metadata": {},
     "output_type": "execute_result"
    }
   ],
   "source": [
    "clusters_new = KMeans(3, max_iter=500, algorithm='auto', random_state=42)       #Build Cluster algorithm\n",
    "clusters_new.fit(scaled_data)"
   ]
  },
  {
   "cell_type": "code",
   "execution_count": 27,
   "id": "025ae436",
   "metadata": {},
   "outputs": [
    {
     "data": {
      "text/plain": [
       "array([1, 1, 1, 1, 1, 1, 1, 1, 1, 1, 1, 1, 1, 1, 1, 1, 1, 1, 1, 1, 1, 1,\n",
       "       1, 1, 1, 1, 1, 1, 1, 1, 1, 1, 1, 1, 1, 1, 1, 1, 1, 1, 1, 1, 1, 1,\n",
       "       1, 1, 1, 1, 1, 1, 0, 2, 0, 2, 2, 2, 2, 2, 2, 2, 2, 2, 2, 2, 2, 2,\n",
       "       2, 2, 2, 2, 2, 2, 2, 2, 2, 2, 2, 0, 2, 2, 2, 2, 2, 2, 2, 2, 2, 2,\n",
       "       2, 2, 2, 2, 2, 2, 2, 2, 2, 2, 2, 2, 0, 2, 0, 0, 0, 0, 2, 0, 0, 0,\n",
       "       0, 0, 0, 2, 0, 0, 0, 0, 0, 2, 0, 2, 0, 0, 0, 0, 0, 0, 0, 0, 0, 0,\n",
       "       0, 0, 2, 0, 0, 0, 0, 0, 0, 0, 2, 0, 0, 0, 0, 0, 0, 0])"
      ]
     },
     "execution_count": 27,
     "metadata": {},
     "output_type": "execute_result"
    }
   ],
   "source": [
    "clusters_new.labels_"
   ]
  },
  {
   "cell_type": "code",
   "execution_count": 28,
   "id": "20d4aa99",
   "metadata": {},
   "outputs": [],
   "source": [
    "data['clusterid_new'] = clusters_new.labels_                                    #Assign clusters to the data set"
   ]
  },
  {
   "cell_type": "code",
   "execution_count": 29,
   "id": "d02f3953",
   "metadata": {},
   "outputs": [
    {
     "data": {
      "text/plain": [
       "array([[ 1.08805236, -0.01704936,  1.0396699 ,  1.09640835,  1.14487021],\n",
       "       [-1.01457897,  0.84514617, -1.30487835, -1.25512862, -1.22474487],\n",
       "       [ 0.01256556, -0.76801923,  0.32257597,  0.22817864,  0.15876322]])"
      ]
     },
     "execution_count": 29,
     "metadata": {},
     "output_type": "execute_result"
    }
   ],
   "source": [
    "clusters_new.cluster_centers_"
   ]
  },
  {
   "cell_type": "code",
   "execution_count": 30,
   "id": "8fe5381b",
   "metadata": {},
   "outputs": [
    {
     "data": {
      "text/html": [
       "<div>\n",
       "<style scoped>\n",
       "    .dataframe tbody tr th:only-of-type {\n",
       "        vertical-align: middle;\n",
       "    }\n",
       "\n",
       "    .dataframe tbody tr th {\n",
       "        vertical-align: top;\n",
       "    }\n",
       "\n",
       "    .dataframe thead tr th {\n",
       "        text-align: left;\n",
       "    }\n",
       "</style>\n",
       "<table border=\"1\" class=\"dataframe\">\n",
       "  <thead>\n",
       "    <tr>\n",
       "      <th></th>\n",
       "      <th>clusterid_new</th>\n",
       "      <th>SepalLengthCm</th>\n",
       "      <th>SepalWidthCm</th>\n",
       "      <th>PetalLengthCm</th>\n",
       "      <th>PetalWidthCm</th>\n",
       "      <th>Species</th>\n",
       "    </tr>\n",
       "    <tr>\n",
       "      <th></th>\n",
       "      <th></th>\n",
       "      <th>mean</th>\n",
       "      <th>mean</th>\n",
       "      <th>mean</th>\n",
       "      <th>mean</th>\n",
       "      <th>mean</th>\n",
       "    </tr>\n",
       "  </thead>\n",
       "  <tbody>\n",
       "    <tr>\n",
       "      <th>0</th>\n",
       "      <td>0</td>\n",
       "      <td>6.741304</td>\n",
       "      <td>3.043478</td>\n",
       "      <td>5.586957</td>\n",
       "      <td>2.032609</td>\n",
       "      <td>1.934783</td>\n",
       "    </tr>\n",
       "    <tr>\n",
       "      <th>1</th>\n",
       "      <td>1</td>\n",
       "      <td>5.006000</td>\n",
       "      <td>3.407000</td>\n",
       "      <td>1.464000</td>\n",
       "      <td>0.244000</td>\n",
       "      <td>0.000000</td>\n",
       "    </tr>\n",
       "    <tr>\n",
       "      <th>2</th>\n",
       "      <td>2</td>\n",
       "      <td>5.853704</td>\n",
       "      <td>2.726852</td>\n",
       "      <td>4.325926</td>\n",
       "      <td>1.372222</td>\n",
       "      <td>1.129630</td>\n",
       "    </tr>\n",
       "  </tbody>\n",
       "</table>\n",
       "</div>"
      ],
      "text/plain": [
       "  clusterid_new SepalLengthCm SepalWidthCm PetalLengthCm PetalWidthCm  \\\n",
       "                         mean         mean          mean         mean   \n",
       "0             0      6.741304     3.043478      5.586957     2.032609   \n",
       "1             1      5.006000     3.407000      1.464000     0.244000   \n",
       "2             2      5.853704     2.726852      4.325926     1.372222   \n",
       "\n",
       "    Species  \n",
       "       mean  \n",
       "0  1.934783  \n",
       "1  0.000000  \n",
       "2  1.129630  "
      ]
     },
     "execution_count": 30,
     "metadata": {},
     "output_type": "execute_result"
    }
   ],
   "source": [
    "data.groupby('clusterid_new').agg(['mean']).reset_index()"
   ]
  },
  {
   "cell_type": "code",
   "execution_count": 31,
   "id": "19690754",
   "metadata": {},
   "outputs": [
    {
     "data": {
      "text/html": [
       "<div>\n",
       "<style scoped>\n",
       "    .dataframe tbody tr th:only-of-type {\n",
       "        vertical-align: middle;\n",
       "    }\n",
       "\n",
       "    .dataframe tbody tr th {\n",
       "        vertical-align: top;\n",
       "    }\n",
       "\n",
       "    .dataframe thead th {\n",
       "        text-align: right;\n",
       "    }\n",
       "</style>\n",
       "<table border=\"1\" class=\"dataframe\">\n",
       "  <thead>\n",
       "    <tr style=\"text-align: right;\">\n",
       "      <th></th>\n",
       "      <th>SepalLengthCm</th>\n",
       "      <th>SepalWidthCm</th>\n",
       "      <th>PetalLengthCm</th>\n",
       "      <th>PetalWidthCm</th>\n",
       "      <th>Species</th>\n",
       "      <th>clusterid_new</th>\n",
       "    </tr>\n",
       "  </thead>\n",
       "  <tbody>\n",
       "    <tr>\n",
       "      <th>0</th>\n",
       "      <td>5.1</td>\n",
       "      <td>3.5</td>\n",
       "      <td>1.4</td>\n",
       "      <td>0.2</td>\n",
       "      <td>0</td>\n",
       "      <td>1</td>\n",
       "    </tr>\n",
       "    <tr>\n",
       "      <th>1</th>\n",
       "      <td>4.9</td>\n",
       "      <td>3.0</td>\n",
       "      <td>1.4</td>\n",
       "      <td>0.2</td>\n",
       "      <td>0</td>\n",
       "      <td>1</td>\n",
       "    </tr>\n",
       "    <tr>\n",
       "      <th>2</th>\n",
       "      <td>4.7</td>\n",
       "      <td>3.2</td>\n",
       "      <td>1.3</td>\n",
       "      <td>0.2</td>\n",
       "      <td>0</td>\n",
       "      <td>1</td>\n",
       "    </tr>\n",
       "    <tr>\n",
       "      <th>3</th>\n",
       "      <td>4.6</td>\n",
       "      <td>3.1</td>\n",
       "      <td>1.5</td>\n",
       "      <td>0.2</td>\n",
       "      <td>0</td>\n",
       "      <td>1</td>\n",
       "    </tr>\n",
       "    <tr>\n",
       "      <th>4</th>\n",
       "      <td>5.0</td>\n",
       "      <td>3.6</td>\n",
       "      <td>1.4</td>\n",
       "      <td>0.2</td>\n",
       "      <td>0</td>\n",
       "      <td>1</td>\n",
       "    </tr>\n",
       "    <tr>\n",
       "      <th>...</th>\n",
       "      <td>...</td>\n",
       "      <td>...</td>\n",
       "      <td>...</td>\n",
       "      <td>...</td>\n",
       "      <td>...</td>\n",
       "      <td>...</td>\n",
       "    </tr>\n",
       "    <tr>\n",
       "      <th>145</th>\n",
       "      <td>6.7</td>\n",
       "      <td>3.0</td>\n",
       "      <td>5.2</td>\n",
       "      <td>2.3</td>\n",
       "      <td>2</td>\n",
       "      <td>0</td>\n",
       "    </tr>\n",
       "    <tr>\n",
       "      <th>146</th>\n",
       "      <td>6.3</td>\n",
       "      <td>2.5</td>\n",
       "      <td>5.0</td>\n",
       "      <td>1.9</td>\n",
       "      <td>2</td>\n",
       "      <td>0</td>\n",
       "    </tr>\n",
       "    <tr>\n",
       "      <th>147</th>\n",
       "      <td>6.5</td>\n",
       "      <td>3.0</td>\n",
       "      <td>5.2</td>\n",
       "      <td>2.0</td>\n",
       "      <td>2</td>\n",
       "      <td>0</td>\n",
       "    </tr>\n",
       "    <tr>\n",
       "      <th>148</th>\n",
       "      <td>6.2</td>\n",
       "      <td>3.4</td>\n",
       "      <td>5.4</td>\n",
       "      <td>2.3</td>\n",
       "      <td>2</td>\n",
       "      <td>0</td>\n",
       "    </tr>\n",
       "    <tr>\n",
       "      <th>149</th>\n",
       "      <td>5.9</td>\n",
       "      <td>3.0</td>\n",
       "      <td>5.1</td>\n",
       "      <td>1.8</td>\n",
       "      <td>2</td>\n",
       "      <td>0</td>\n",
       "    </tr>\n",
       "  </tbody>\n",
       "</table>\n",
       "<p>150 rows × 6 columns</p>\n",
       "</div>"
      ],
      "text/plain": [
       "     SepalLengthCm  SepalWidthCm  PetalLengthCm  PetalWidthCm  Species  \\\n",
       "0              5.1           3.5            1.4           0.2        0   \n",
       "1              4.9           3.0            1.4           0.2        0   \n",
       "2              4.7           3.2            1.3           0.2        0   \n",
       "3              4.6           3.1            1.5           0.2        0   \n",
       "4              5.0           3.6            1.4           0.2        0   \n",
       "..             ...           ...            ...           ...      ...   \n",
       "145            6.7           3.0            5.2           2.3        2   \n",
       "146            6.3           2.5            5.0           1.9        2   \n",
       "147            6.5           3.0            5.2           2.0        2   \n",
       "148            6.2           3.4            5.4           2.3        2   \n",
       "149            5.9           3.0            5.1           1.8        2   \n",
       "\n",
       "     clusterid_new  \n",
       "0                1  \n",
       "1                1  \n",
       "2                1  \n",
       "3                1  \n",
       "4                1  \n",
       "..             ...  \n",
       "145              0  \n",
       "146              0  \n",
       "147              0  \n",
       "148              0  \n",
       "149              0  \n",
       "\n",
       "[150 rows x 6 columns]"
      ]
     },
     "execution_count": 31,
     "metadata": {},
     "output_type": "execute_result"
    }
   ],
   "source": [
    "data"
   ]
  },
  {
   "cell_type": "code",
   "execution_count": 32,
   "id": "0f189950",
   "metadata": {},
   "outputs": [],
   "source": [
    "kmeans = KMeans(n_clusters = 3, init = 'k-means++',                           # Creating the kmeans classifier\n",
    "                max_iter = 300, n_init = 10, random_state = 42)\n",
    "y_kmeans = kmeans.fit_predict(scaled_data)"
   ]
  },
  {
   "cell_type": "code",
   "execution_count": 33,
   "id": "ba8297e3",
   "metadata": {},
   "outputs": [
    {
     "data": {
      "text/plain": [
       "array([1, 1, 1, 1, 1, 1, 1, 1, 1, 1, 1, 1, 1, 1, 1, 1, 1, 1, 1, 1, 1, 1,\n",
       "       1, 1, 1, 1, 1, 1, 1, 1, 1, 1, 1, 1, 1, 1, 1, 1, 1, 1, 1, 1, 1, 1,\n",
       "       1, 1, 1, 1, 1, 1, 0, 2, 0, 2, 2, 2, 2, 2, 2, 2, 2, 2, 2, 2, 2, 2,\n",
       "       2, 2, 2, 2, 2, 2, 2, 2, 2, 2, 2, 0, 2, 2, 2, 2, 2, 2, 2, 2, 2, 2,\n",
       "       2, 2, 2, 2, 2, 2, 2, 2, 2, 2, 2, 2, 0, 2, 0, 0, 0, 0, 2, 0, 0, 0,\n",
       "       0, 0, 0, 2, 0, 0, 0, 0, 0, 2, 0, 2, 0, 0, 0, 0, 0, 0, 0, 0, 0, 0,\n",
       "       0, 0, 2, 0, 0, 0, 0, 0, 0, 0, 2, 0, 0, 0, 0, 0, 0, 0])"
      ]
     },
     "execution_count": 33,
     "metadata": {},
     "output_type": "execute_result"
    }
   ],
   "source": [
    "y_kmeans"
   ]
  },
  {
   "cell_type": "code",
   "execution_count": 34,
   "id": "d280e874",
   "metadata": {},
   "outputs": [
    {
     "data": {
      "image/png": "[encoded data removed]",
      "text/plain": [
       "<Figure size 1000x500 with 2 Axes>"
      ]
     },
     "metadata": {},
     "output_type": "display_data"
    }
   ],
   "source": [
    "plt.figure(figsize=(10,5))\n",
    "sns.heatmap(abs(data.corr()), cmap='GnBu', annot=True);"
   ]
  },
  {
   "cell_type": "markdown",
   "id": "814a9377",
   "metadata": {},
   "source": [
    "## Data Visualisation"
   ]
  },
  {
   "cell_type": "code",
   "execution_count": 35,
   "id": "4838208e",
   "metadata": {},
   "outputs": [
    {
     "data": {
      "image/png": "[encoded data removed]",
      "text/plain": [
       "<Figure size 640x480 with 1 Axes>"
      ]
     },
     "metadata": {},
     "output_type": "display_data"
    }
   ],
   "source": [
    "plt.scatter(scaled_data[y_kmeans == 0, 0], scaled_data[y_kmeans == 0, 1],          # Visualising the clusters - On the first two columns\n",
    "            s = 100, c = 'red', label = 'Iris-setosa')\n",
    "plt.scatter(scaled_data[y_kmeans == 1, 0], scaled_data[y_kmeans == 1, 1], \n",
    "            s = 100, c = 'blue', label = 'Iris-versicolour')\n",
    "plt.scatter(scaled_data[y_kmeans == 2, 0], scaled_data[y_kmeans == 2, 1],\n",
    "            s = 100, c = 'green', label = 'Iris-virginica')\n",
    "\n",
    "\n",
    "plt.scatter(kmeans.cluster_centers_[:, 0], kmeans.cluster_centers_[:,1],       # Plotting the centroids of the clusters\n",
    "            s = 100, c = 'yellow', label = 'Centroids')\n",
    "\n",
    "plt.legend()\n",
    "plt.grid()\n",
    "plt.show()"
   ]
  },
  {
   "cell_type": "markdown",
   "id": "ecd74082",
   "metadata": {},
   "source": [
    "## Conclusion\n",
    "<h3>===> *Able to evaluate the model's clustering accuracy score.*</h3>"
   ]
  }
 ],
 "metadata": {
  "kernelspec": {
   "display_name": "Python 3 (ipykernel)",
   "language": "python",
   "name": "python3"
  },
  "language_info": {
   "codemirror_mode": {
    "name": "ipython",
    "version": 3
   },
   "file_extension": ".py",
   "mimetype": "text/x-python",
   "name": "python",
   "nbconvert_exporter": "python",
   "pygments_lexer": "ipython3",
   "version": "3.11.0"
  }
 },
 "nbformat": 4,
 "nbformat_minor": 5
}
